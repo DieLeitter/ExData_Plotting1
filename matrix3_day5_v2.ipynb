{
  "nbformat": 4,
  "nbformat_minor": 0,
  "metadata": {
    "colab": {
      "name": "matrix3_day5_v2.ipynb",
      "provenance": [],
      "collapsed_sections": [],
      "mount_file_id": "1J59sK6YSiex9LryuA2vB_S3xri-M0wzY",
      "authorship_tag": "ABX9TyNFmYk/PzRoMyA2O1+jvtNh",
      "include_colab_link": true
    },
    "kernelspec": {
      "name": "python3",
      "display_name": "Python 3"
    },
    "accelerator": "GPU"
  },
  "cells": [
    {
      "cell_type": "markdown",
      "metadata": {
        "id": "view-in-github",
        "colab_type": "text"
      },
      "source": [
        "<a href=\"https://colab.research.google.com/github/DieLeitter/ExData_Plotting1/blob/master/matrix3_day5_v2.ipynb\" target=\"_parent\"><img src=\"https://colab.research.google.com/assets/colab-badge.svg\" alt=\"Open In Colab\"/></a>"
      ]
    },
    {
      "cell_type": "code",
      "metadata": {
        "id": "ORhBC_4QovIP",
        "colab_type": "code",
        "colab": {
          "base_uri": "https://localhost:8080/",
          "height": 196
        },
        "outputId": "2c8c2ccd-ec92-47ab-8e47-b9761961b195"
      },
      "source": [
        "!pip install hyperopt"
      ],
      "execution_count": 6,
      "outputs": [
        {
          "output_type": "stream",
          "text": [
            "Requirement already satisfied: hyperopt in /usr/local/lib/python3.6/dist-packages (0.1.2)\n",
            "Requirement already satisfied: six in /usr/local/lib/python3.6/dist-packages (from hyperopt) (1.12.0)\n",
            "Requirement already satisfied: tqdm in /usr/local/lib/python3.6/dist-packages (from hyperopt) (4.38.0)\n",
            "Requirement already satisfied: scipy in /usr/local/lib/python3.6/dist-packages (from hyperopt) (1.4.1)\n",
            "Requirement already satisfied: networkx in /usr/local/lib/python3.6/dist-packages (from hyperopt) (2.4)\n",
            "Requirement already satisfied: future in /usr/local/lib/python3.6/dist-packages (from hyperopt) (0.16.0)\n",
            "Requirement already satisfied: numpy in /usr/local/lib/python3.6/dist-packages (from hyperopt) (1.18.2)\n",
            "Requirement already satisfied: pymongo in /usr/local/lib/python3.6/dist-packages (from hyperopt) (3.10.1)\n",
            "Requirement already satisfied: decorator>=4.3.0 in /usr/local/lib/python3.6/dist-packages (from networkx->hyperopt) (4.4.2)\n"
          ],
          "name": "stdout"
        }
      ]
    },
    {
      "cell_type": "code",
      "metadata": {
        "id": "VZfPkVQCpDOG",
        "colab_type": "code",
        "colab": {
          "base_uri": "https://localhost:8080/",
          "height": 52
        },
        "outputId": "360700d7-5763-4821-ea91-631b1c98f7db"
      },
      "source": [
        "import pandas as pd\n",
        "import numpy as np\n",
        "\n",
        "import os \n",
        "import datetime\n",
        "\n",
        "import tensorflow as tf\n",
        "from tensorflow.keras.models import Sequential\n",
        "from tensorflow.keras.layers import Conv2D, MaxPool2D, Dense, Flatten, Dropout\n",
        "from tensorflow.keras.utils import to_categorical\n",
        "\n",
        "\n",
        "%load_ext tensorboard\n",
        "\n",
        "import matplotlib.pyplot as plt\n",
        "from skimage import color, exposure\n",
        "\n",
        "from sklearn.metrics import accuracy_score\n",
        "from hyperopt import hp, STATUS_OK, tpe, Trials, fmin"
      ],
      "execution_count": 33,
      "outputs": [
        {
          "output_type": "stream",
          "text": [
            "The tensorboard extension is already loaded. To reload it, use:\n",
            "  %reload_ext tensorboard\n"
          ],
          "name": "stdout"
        }
      ]
    },
    {
      "cell_type": "code",
      "metadata": {
        "id": "maEXtX76pIgi",
        "colab_type": "code",
        "colab": {
          "base_uri": "https://localhost:8080/",
          "height": 34
        },
        "outputId": "00ed5a39-1846-4149-b403-22c578badd44"
      },
      "source": [
        "cd '/content/drive/My Drive/Colab Notebooks/matrix_three/dw_matrix_road_sign/'"
      ],
      "execution_count": 17,
      "outputs": [
        {
          "output_type": "stream",
          "text": [
            "/content/drive/My Drive/Colab Notebooks/matrix_three/dw_matrix_road_sign\n"
          ],
          "name": "stdout"
        }
      ]
    },
    {
      "cell_type": "code",
      "metadata": {
        "id": "AF2jMSpMptbR",
        "colab_type": "code",
        "colab": {
          "base_uri": "https://localhost:8080/",
          "height": 34
        },
        "outputId": "c779e9e4-8d5b-43c0-efcd-4d2ee6dd0bc5"
      },
      "source": [
        "ls"
      ],
      "execution_count": 18,
      "outputs": [
        {
          "output_type": "stream",
          "text": [
            "\u001b[0m\u001b[01;34mdata\u001b[0m/  LICENSE  \u001b[01;34mlogs\u001b[0m/  README.md\n"
          ],
          "name": "stdout"
        }
      ]
    },
    {
      "cell_type": "code",
      "metadata": {
        "id": "1Mm7AGvdpJMf",
        "colab_type": "code",
        "colab": {}
      },
      "source": [
        "train = pd.read_pickle('data/train.p')\n",
        "test = pd.read_pickle('data/test.p')\n",
        "\n",
        "\n",
        "X_train, y_train = train['features'], train['labels']\n",
        "X_test, y_test = test['features'], test['labels']"
      ],
      "execution_count": 0,
      "outputs": []
    },
    {
      "cell_type": "code",
      "metadata": {
        "id": "AThGoN2MpXvX",
        "colab_type": "code",
        "colab": {}
      },
      "source": [
        "if y_train.ndim == 1: y_train = to_categorical(y_train)\n",
        "if y_test.ndim == 1: y_test = to_categorical(y_test)\n",
        "\n",
        "input_shape = X_train.shape[1:] # input \n",
        "num_classes = y_train.shape[1]"
      ],
      "execution_count": 0,
      "outputs": []
    },
    {
      "cell_type": "code",
      "metadata": {
        "id": "9q3tFE08pcl7",
        "colab_type": "code",
        "colab": {}
      },
      "source": [
        "def train_model(model, X_train, y_train, params_fit={}):\n",
        "    model.compile(loss = 'categorical_crossentropy', optimizer='Adam', metrics=['accuracy'])\n",
        "\n",
        "    logdir = os.path.join(\"logs\", datetime.datetime.now().strftime('%Y%m%d-%H%M%S'))\n",
        "    tensorboard_callback =tf.keras.callbacks.TensorBoard(logdir, histogram_freq=1)\n",
        "\n",
        "    model.fit(\n",
        "        X_train, \n",
        "        y_train,\n",
        "        batch_size=params_fit.get('batch_size', 128),\n",
        "        epochs=params_fit.get('epochs', 5),\n",
        "        verbose=params_fit.get('verbose', 1),\n",
        "        validation_data=params_fit.get('calidation_data', (X_train, y_train)),\n",
        "        callbacks =[tensorboard_callback]\n",
        "    )\n",
        "\n",
        "    return model\n",
        "    "
      ],
      "execution_count": 0,
      "outputs": []
    },
    {
      "cell_type": "code",
      "metadata": {
        "id": "2ZJ-oMBDpdcG",
        "colab_type": "code",
        "colab": {}
      },
      "source": [
        "def predict(model_trained, X_test, y_test, scoring = accuracy_score ):\n",
        "   y_test_norm = np.argmax(y_test, axis=1)\n",
        "   \n",
        "   y_pred_prob = model_trained.predict(X_test) \n",
        "   y_pred = np.argmax(y_pred_prob, axis=1)\n",
        "\n",
        "   return scoring(y_test_norm, y_pred)"
      ],
      "execution_count": 0,
      "outputs": []
    },
    {
      "cell_type": "code",
      "metadata": {
        "id": "Yz_Ke-LMplCS",
        "colab_type": "code",
        "colab": {}
      },
      "source": [
        "def get_cnn_v5(input_shape, num_classes):\n",
        "  return Sequential([\n",
        "  Conv2D(filters=32, kernel_size=(3,3), activation='relu', input_shape=input_shape),\n",
        "  Conv2D(filters=32, kernel_size=(3,3), activation='relu', padding = 'same'),\n",
        "  MaxPool2D(),\n",
        "  Dropout(0.3),\n",
        "\n",
        "  Conv2D(filters=64, kernel_size=(3,3), activation='relu', padding = 'same'),\n",
        "  Conv2D(filters=64, kernel_size=(3,3), activation='relu'),\n",
        "  MaxPool2D(),\n",
        "  Dropout(0.3),\n",
        "\n",
        "\n",
        "  Conv2D(filters=64, kernel_size=(3,3), activation='relu', padding = 'same'),\n",
        "  Conv2D(filters=64, kernel_size=(3,3), activation='relu'),\n",
        "  MaxPool2D(),\n",
        "  Dropout(0.3),\n",
        "\n",
        "  Flatten(),\n",
        "\n",
        "  Dense(1024, activation='relu'),\n",
        "  Dropout(0.3),\n",
        "\n",
        "\n",
        "  Dense(1024, activation='relu'),\n",
        "  Dropout(0.3),\n",
        "\n",
        "\n",
        "  Dense(num_classes, activation='softmax'),\n",
        "])"
      ],
      "execution_count": 0,
      "outputs": []
    },
    {
      "cell_type": "code",
      "metadata": {
        "id": "VTIP8Ewup6Ka",
        "colab_type": "code",
        "colab": {
          "base_uri": "https://localhost:8080/",
          "height": 232
        },
        "outputId": "d89f527e-1198-4f88-f591-fb5abadd09ff"
      },
      "source": [
        "model = get_cnn_v5(input_shape, num_classes)\n",
        "model_trained = train_model(model,X_train, y_train, params_fit={}  )\n",
        "predict(model_trained, X_test, y_test)"
      ],
      "execution_count": 27,
      "outputs": [
        {
          "output_type": "stream",
          "text": [
            "Epoch 1/5\n",
            "272/272 [==============================] - 4s 15ms/step - loss: 2.6834 - accuracy: 0.2654 - val_loss: 1.4732 - val_accuracy: 0.5146\n",
            "Epoch 2/5\n",
            "272/272 [==============================] - 4s 13ms/step - loss: 1.0805 - accuracy: 0.6486 - val_loss: 0.2972 - val_accuracy: 0.9124\n",
            "Epoch 3/5\n",
            "272/272 [==============================] - 4s 13ms/step - loss: 0.4539 - accuracy: 0.8566 - val_loss: 0.1320 - val_accuracy: 0.9595\n",
            "Epoch 4/5\n",
            "272/272 [==============================] - 4s 13ms/step - loss: 0.2870 - accuracy: 0.9111 - val_loss: 0.0656 - val_accuracy: 0.9805\n",
            "Epoch 5/5\n",
            "272/272 [==============================] - 4s 13ms/step - loss: 0.2193 - accuracy: 0.9349 - val_loss: 0.0490 - val_accuracy: 0.9864\n"
          ],
          "name": "stdout"
        },
        {
          "output_type": "execute_result",
          "data": {
            "text/plain": [
              "0.9596371882086168"
            ]
          },
          "metadata": {
            "tags": []
          },
          "execution_count": 27
        }
      ]
    },
    {
      "cell_type": "code",
      "metadata": {
        "id": "-qRNDfobvbyd",
        "colab_type": "code",
        "colab": {}
      },
      "source": [
        "def get_model(params):\n",
        "  return Sequential([\n",
        "  Conv2D(filters=32, kernel_size=(3,3), activation='relu', input_shape=input_shape),\n",
        "  Conv2D(filters=32, kernel_size=(3,3), activation='relu', padding = 'same'),\n",
        "  MaxPool2D(),\n",
        "  Dropout(params['dropout_cnn_block_one']),\n",
        "\n",
        "  Conv2D(filters=64, kernel_size=(3,3), activation='relu', padding = 'same'),\n",
        "  Conv2D(filters=64, kernel_size=(3,3), activation='relu'),\n",
        "  MaxPool2D(),\n",
        "  Dropout(params['dropout_cnn_block_two']),\n",
        "\n",
        "\n",
        "  Conv2D(filters=128, kernel_size=(3,3), activation='relu', padding = 'same'),\n",
        "  Conv2D(filters=128, kernel_size=(3,3), activation='relu'),\n",
        "  MaxPool2D(),\n",
        "  Dropout(params['dropout_cnn_block_three']),\n",
        "\n",
        "  Flatten(),\n",
        "\n",
        "  Dense(1024, activation='relu'),\n",
        "  Dropout(params['dropout_dense_block_one']),\n",
        "\n",
        "\n",
        "  Dense(1024, activation='relu'),\n",
        "  Dropout(params['dropout_dense_block_two']),\n",
        "\n",
        "\n",
        "  Dense(num_classes, activation='softmax'),\n",
        "])"
      ],
      "execution_count": 0,
      "outputs": []
    },
    {
      "cell_type": "code",
      "metadata": {
        "id": "F4RcBxYqqC89",
        "colab_type": "code",
        "colab": {}
      },
      "source": [
        "def func_obj(params):\n",
        "   model = get_model(params)\n",
        "   model.compile(loss = 'categorical_crossentropy', optimizer='Adam', metrics=['accuracy'])\n",
        "   \n",
        "   model.fit(\n",
        "        X_train, \n",
        "        y_train,\n",
        "        batch_size= int(params.get('batch_size', 128)),\n",
        "        epochs=5,\n",
        "        verbose=0\n",
        "   )\n",
        "   \n",
        "   score = model.evaluate(X_test, y_test, verbose = 0)\n",
        "   accuracy = score[1]\n",
        "   print(params, 'accuracy={}'.format(accuracy))\n",
        "\n",
        "   return {'loss': -accuracy, 'status':STATUS_OK, 'model':model}"
      ],
      "execution_count": 0,
      "outputs": []
    },
    {
      "cell_type": "code",
      "metadata": {
        "id": "IaWBAjhhq2Vu",
        "colab_type": "code",
        "colab": {
          "base_uri": "https://localhost:8080/",
          "height": 1000
        },
        "outputId": "79958776-5b26-434f-b86a-5b13bcc47a08"
      },
      "source": [
        "space = {\n",
        "    'batch_size': hp.quniform('batch_size', 100, 200, 10),\n",
        "    'dropout_cnn_block_one':   hp.uniform('dropout_cnn_block_one',0.3,  0.5   ),\n",
        "    'dropout_cnn_block_two':   hp.uniform('dropout_cnn_block_two',0.3,  0.5 ),\n",
        "    'dropout_cnn_block_three': hp.uniform('dropout_cnn_block_three',0.3,  0.5 ),\n",
        "    'dropout_dense_block_one': hp.uniform('dropout_dense_block_one',0.3,  0.7 ),\n",
        "    'dropout_dense_block_two': hp.uniform('dropout_dense_block_two',0.3,  0.7 ),\n",
        "}\n",
        "\n",
        "best = fmin(\n",
        "    func_obj,\n",
        "    space,\n",
        "    tpe.suggest,\n",
        "    30,\n",
        "    Trials()\n",
        ")"
      ],
      "execution_count": 68,
      "outputs": [
        {
          "output_type": "stream",
          "text": [
            "{'batch_size': 170.0, 'dropout_cnn_block_one': 0.39041592127725655, 'dropout_cnn_block_three': 0.32172882198988656, 'dropout_cnn_block_two': 0.4822658401973463, 'dropout_dense_block_one': 0.6517576640746753, 'dropout_dense_block_two': 0.3246976300705422}\n",
            "accuracy=0.938095211982727\n",
            "{'batch_size': 120.0, 'dropout_cnn_block_one': 0.4904011389079694, 'dropout_cnn_block_three': 0.331578342928671, 'dropout_cnn_block_two': 0.43439063526953114, 'dropout_dense_block_one': 0.49046544563688965, 'dropout_dense_block_two': 0.352501329828361}\n",
            "accuracy=0.9428571462631226\n",
            "{'batch_size': 130.0, 'dropout_cnn_block_one': 0.36442094155089, 'dropout_cnn_block_three': 0.41945339428136214, 'dropout_cnn_block_two': 0.30464402183611256, 'dropout_dense_block_one': 0.5951454295036072, 'dropout_dense_block_two': 0.38032441400983547}\n",
            "accuracy=0.962358295917511\n",
            "{'batch_size': 180.0, 'dropout_cnn_block_one': 0.42457542758573097, 'dropout_cnn_block_three': 0.4731002784589675, 'dropout_cnn_block_two': 0.3053592135622309, 'dropout_dense_block_one': 0.5236455330803306, 'dropout_dense_block_two': 0.6302200800146511}\n",
            "accuracy=0.9360544085502625\n",
            "{'batch_size': 140.0, 'dropout_cnn_block_one': 0.36996143559849604, 'dropout_cnn_block_three': 0.4329736855793661, 'dropout_cnn_block_two': 0.31950829005064546, 'dropout_dense_block_one': 0.5356663941023594, 'dropout_dense_block_two': 0.6258266077381363}\n",
            "accuracy=0.9473922848701477\n",
            "{'batch_size': 180.0, 'dropout_cnn_block_one': 0.36416729124034364, 'dropout_cnn_block_three': 0.40849825468189, 'dropout_cnn_block_two': 0.4917556248496601, 'dropout_dense_block_one': 0.3823173452812626, 'dropout_dense_block_two': 0.4160154328979405}\n",
            "accuracy=0.9292517304420471\n",
            "{'batch_size': 130.0, 'dropout_cnn_block_one': 0.4160796367318323, 'dropout_cnn_block_three': 0.4082622312462634, 'dropout_cnn_block_two': 0.3066795455050995, 'dropout_dense_block_one': 0.3909081643007055, 'dropout_dense_block_two': 0.6519816713883406}\n",
            "accuracy=0.9523809552192688\n",
            "{'batch_size': 130.0, 'dropout_cnn_block_one': 0.39143841639982435, 'dropout_cnn_block_three': 0.35545664737474153, 'dropout_cnn_block_two': 0.434096070179146, 'dropout_dense_block_one': 0.37436479875384127, 'dropout_dense_block_two': 0.6288603188123306}\n",
            "accuracy=0.9489796161651611\n",
            "{'batch_size': 180.0, 'dropout_cnn_block_one': 0.3884648001373813, 'dropout_cnn_block_three': 0.4601701155609822, 'dropout_cnn_block_two': 0.3756377148686212, 'dropout_dense_block_one': 0.4867778230055301, 'dropout_dense_block_two': 0.6185209428557117}\n",
            "accuracy=0.9077097773551941\n",
            "{'batch_size': 120.0, 'dropout_cnn_block_one': 0.36974251072263725, 'dropout_cnn_block_three': 0.3981873619464643, 'dropout_cnn_block_two': 0.3397766447947791, 'dropout_dense_block_one': 0.34276378696118015, 'dropout_dense_block_two': 0.3953053939875461}\n",
            "accuracy=0.96417236328125\n",
            "{'batch_size': 190.0, 'dropout_cnn_block_one': 0.3543448036293668, 'dropout_cnn_block_three': 0.4937729161765927, 'dropout_cnn_block_two': 0.41165535074248644, 'dropout_dense_block_one': 0.600275589248408, 'dropout_dense_block_two': 0.37394109485665833}\n",
            "accuracy=0.9154195189476013\n",
            "{'batch_size': 150.0, 'dropout_cnn_block_one': 0.41495141189389906, 'dropout_cnn_block_three': 0.3300668157674734, 'dropout_cnn_block_two': 0.43002632288512976, 'dropout_dense_block_one': 0.4361360746280554, 'dropout_dense_block_two': 0.34592351579016334}\n",
            "accuracy=0.9154195189476013\n",
            "{'batch_size': 140.0, 'dropout_cnn_block_one': 0.3634724749386132, 'dropout_cnn_block_three': 0.4822400130154591, 'dropout_cnn_block_two': 0.44385463730018226, 'dropout_dense_block_one': 0.6227741322169162, 'dropout_dense_block_two': 0.5779140608680331}\n",
            "accuracy=0.8047618865966797\n",
            "{'batch_size': 180.0, 'dropout_cnn_block_one': 0.4717858743789098, 'dropout_cnn_block_three': 0.3040015271797703, 'dropout_cnn_block_two': 0.3478043376233718, 'dropout_dense_block_one': 0.4249171017347815, 'dropout_dense_block_two': 0.6567224669464704}\n",
            "accuracy=0.9414966106414795\n",
            "{'batch_size': 180.0, 'dropout_cnn_block_one': 0.36574290316919683, 'dropout_cnn_block_three': 0.33914268124890506, 'dropout_cnn_block_two': 0.3496679692658094, 'dropout_dense_block_one': 0.608850425820757, 'dropout_dense_block_two': 0.42343266777921307}\n",
            "accuracy=0.9217687249183655\n",
            "{'batch_size': 150.0, 'dropout_cnn_block_one': 0.32225974015879605, 'dropout_cnn_block_three': 0.4861984584660049, 'dropout_cnn_block_two': 0.3355862136673358, 'dropout_dense_block_one': 0.3665500493498235, 'dropout_dense_block_two': 0.5809306085425656}\n",
            "accuracy=0.9650793671607971\n",
            "{'batch_size': 170.0, 'dropout_cnn_block_one': 0.4826445867916364, 'dropout_cnn_block_three': 0.3366134373366348, 'dropout_cnn_block_two': 0.4680933965630498, 'dropout_dense_block_one': 0.4387783577785134, 'dropout_dense_block_two': 0.4882866358369168}\n",
            "accuracy=0.9138321876525879\n",
            "{'batch_size': 130.0, 'dropout_cnn_block_one': 0.47626321895652385, 'dropout_cnn_block_three': 0.4562496348208923, 'dropout_cnn_block_two': 0.4033983014692147, 'dropout_dense_block_one': 0.5088056153914927, 'dropout_dense_block_two': 0.5829929650396509}\n",
            "accuracy=0.8693877458572388\n",
            "{'batch_size': 160.0, 'dropout_cnn_block_one': 0.4689411378901111, 'dropout_cnn_block_three': 0.36964408801657733, 'dropout_cnn_block_two': 0.33533883334332454, 'dropout_dense_block_one': 0.5275327331775377, 'dropout_dense_block_two': 0.4315500872956344}\n",
            "accuracy=0.9598639607429504\n",
            "{'batch_size': 140.0, 'dropout_cnn_block_one': 0.4071530948597085, 'dropout_cnn_block_three': 0.4515632486606552, 'dropout_cnn_block_two': 0.47087432886194863, 'dropout_dense_block_one': 0.6007578761825159, 'dropout_dense_block_two': 0.3560946679485246}\n",
            "accuracy=0.9222221970558167\n",
            "{'batch_size': 100.0, 'dropout_cnn_block_one': 0.3100253345904326, 'dropout_cnn_block_three': 0.38877900586691105, 'dropout_cnn_block_two': 0.3696174963542864, 'dropout_dense_block_one': 0.3044154862225998, 'dropout_dense_block_two': 0.5198232971268756}\n",
            "accuracy=0.9725623726844788\n",
            "{'batch_size': 100.0, 'dropout_cnn_block_one': 0.3039214801026584, 'dropout_cnn_block_three': 0.3936559422309776, 'dropout_cnn_block_two': 0.3845360786708885, 'dropout_dense_block_one': 0.30027453024548745, 'dropout_dense_block_two': 0.5144052719421064}\n",
            "accuracy=0.9693877696990967\n",
            "{'batch_size': 100.0, 'dropout_cnn_block_one': 0.3010739806158583, 'dropout_cnn_block_three': 0.3770083069430653, 'dropout_cnn_block_two': 0.3763556801149543, 'dropout_dense_block_one': 0.31208199298232564, 'dropout_dense_block_two': 0.4910679916210244}\n",
            "accuracy=0.9614512324333191\n",
            "{'batch_size': 100.0, 'dropout_cnn_block_one': 0.3038739779735739, 'dropout_cnn_block_three': 0.38354634762300843, 'dropout_cnn_block_two': 0.3772354236350999, 'dropout_dense_block_one': 0.3060825778570027, 'dropout_dense_block_two': 0.5335429833375718}\n",
            "accuracy=0.9614512324333191\n",
            "{'batch_size': 110.0, 'dropout_cnn_block_one': 0.32880093466278226, 'dropout_cnn_block_three': 0.42922553179315587, 'dropout_cnn_block_two': 0.3641220590667089, 'dropout_dense_block_one': 0.32821606662533787, 'dropout_dense_block_two': 0.6965897330934654}\n",
            "accuracy=0.9562358260154724\n",
            "{'batch_size': 110.0, 'dropout_cnn_block_one': 0.3304039519668807, 'dropout_cnn_block_three': 0.3600108527475686, 'dropout_cnn_block_two': 0.3939881061275466, 'dropout_dense_block_one': 0.30275117425116105, 'dropout_dense_block_two': 0.4657737796952871}\n",
            "accuracy=0.9678004384040833\n",
            "{'batch_size': 110.0, 'dropout_cnn_block_one': 0.43770028035543507, 'dropout_cnn_block_three': 0.3892330250545976, 'dropout_cnn_block_two': 0.3947647687859666, 'dropout_dense_block_one': 0.4115409740679582, 'dropout_dense_block_two': 0.5389233011635175}\n",
            "accuracy=0.797732412815094\n",
            "{'batch_size': 100.0, 'dropout_cnn_block_one': 0.31157899766324343, 'dropout_cnn_block_three': 0.3565594638902386, 'dropout_cnn_block_two': 0.3607179924054314, 'dropout_dense_block_one': 0.34498465346150375, 'dropout_dense_block_two': 0.5312035227902212}\n",
            "accuracy=0.9705215692520142\n",
            "{'batch_size': 120.0, 'dropout_cnn_block_one': 0.3392985534542628, 'dropout_cnn_block_three': 0.30058756759049843, 'dropout_cnn_block_two': 0.3608436188096127, 'dropout_dense_block_one': 0.46307611994242487, 'dropout_dense_block_two': 0.4645568559503098}\n",
            "accuracy=0.9566893577575684\n",
            "{'batch_size': 110.0, 'dropout_cnn_block_one': 0.3179199474624386, 'dropout_cnn_block_three': 0.312792551931563, 'dropout_cnn_block_two': 0.4125747799971622, 'dropout_dense_block_one': 0.6809630089013967, 'dropout_dense_block_two': 0.307414403516179}\n",
            "accuracy=0.9430838823318481\n",
            "100%|██████████| 30/30 [05:32<00:00, 11.08s/it, best loss: -0.9725623726844788]\n"
          ],
          "name": "stdout"
        }
      ]
    },
    {
      "cell_type": "code",
      "metadata": {
        "id": "AmN4U_ywsTYO",
        "colab_type": "code",
        "colab": {}
      },
      "source": [
        ""
      ],
      "execution_count": 0,
      "outputs": []
    },
    {
      "cell_type": "code",
      "metadata": {
        "id": "FBCHjo1atJnO",
        "colab_type": "code",
        "colab": {}
      },
      "source": [
        ""
      ],
      "execution_count": 0,
      "outputs": []
    },
    {
      "cell_type": "code",
      "metadata": {
        "id": "y8SAQCritYti",
        "colab_type": "code",
        "colab": {}
      },
      "source": [
        ""
      ],
      "execution_count": 0,
      "outputs": []
    }
  ]
}